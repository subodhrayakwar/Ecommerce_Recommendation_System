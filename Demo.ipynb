{
 "cells": [
  {
   "cell_type": "code",
   "execution_count": 3,
   "metadata": {},
   "outputs": [
    {
     "name": "stdout",
     "output_type": "stream",
     "text": [
      "Image URLs updated and saved to 'updated_products.csv'\n"
     ]
    }
   ],
   "source": [
    "import pandas as pd\n",
    "import random\n",
    "\n",
    "# List of random image URLs\n",
    "random_image_urls = [\n",
    "    \"static/img/img_1.png\",\n",
    "    \"static/img/img_2.png\",\n",
    "    \"static/img/img_3.png\",\n",
    "    \"static/img/img_4.png\",\n",
    "    \"static/img/img_5.png\",\n",
    "    \"static/img/img_6.png\",\n",
    "    \"static/img/img_7.png\",\n",
    "    \"static/img/img_8.png\",\n",
    "]\n",
    "\n",
    "# Read the CSV file\n",
    "df = pd.read_csv('models/trending_products.csv')\n",
    "\n",
    "# Replace each ImageURL with a random image from random_image_urls\n",
    "df['ImageURL'] = df['ImageURL'].apply(lambda x: random.choice(random_image_urls))\n",
    "\n",
    "# Save the modified CSV to a new file\n",
    "df.to_csv('updated_products.csv', index=False)\n",
    "\n",
    "print(\"Image URLs updated and saved to 'updated_products.csv'\")"
   ]
  },
  {
   "cell_type": "code",
   "execution_count": null,
   "metadata": {},
   "outputs": [],
   "source": []
  }
 ],
 "metadata": {
  "kernelspec": {
   "display_name": "venv",
   "language": "python",
   "name": "python3"
  },
  "language_info": {
   "codemirror_mode": {
    "name": "ipython",
    "version": 3
   },
   "file_extension": ".py",
   "mimetype": "text/x-python",
   "name": "python",
   "nbconvert_exporter": "python",
   "pygments_lexer": "ipython3",
   "version": "3.11.5"
  }
 },
 "nbformat": 4,
 "nbformat_minor": 2
}
